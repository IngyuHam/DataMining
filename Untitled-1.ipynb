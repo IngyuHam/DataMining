{
 "cells": [
  {
   "cell_type": "code",
   "execution_count": 1,
   "metadata": {},
   "outputs": [
    {
     "name": "stdout",
     "output_type": "stream",
     "text": [
      "Collecting pypdf[crypto]\n",
      "  Downloading pypdf-4.3.1-py3-none-any.whl.metadata (7.4 kB)\n",
      "Collecting cryptography (from pypdf[crypto])\n",
      "  Downloading cryptography-43.0.1-cp39-abi3-win_amd64.whl.metadata (5.4 kB)\n",
      "Requirement already satisfied: cffi>=1.12 in c:\\users\\hig\\appdata\\local\\packages\\pythonsoftwarefoundation.python.3.11_qbz5n2kfra8p0\\localcache\\local-packages\\python311\\site-packages (from cryptography->pypdf[crypto]) (1.15.1)\n",
      "Requirement already satisfied: pycparser in c:\\users\\hig\\appdata\\local\\packages\\pythonsoftwarefoundation.python.3.11_qbz5n2kfra8p0\\localcache\\local-packages\\python311\\site-packages (from cffi>=1.12->cryptography->pypdf[crypto]) (2.21)\n",
      "Downloading cryptography-43.0.1-cp39-abi3-win_amd64.whl (3.1 MB)\n",
      "   ---------------------------------------- 0.0/3.1 MB ? eta -:--:--\n",
      "   ------ --------------------------------- 0.5/3.1 MB 10.5 MB/s eta 0:00:01\n",
      "   ------------- -------------------------- 1.1/3.1 MB 11.2 MB/s eta 0:00:01\n",
      "   -------------------- ------------------- 1.6/3.1 MB 11.0 MB/s eta 0:00:01\n",
      "   ---------------------------- ----------- 2.2/3.1 MB 11.6 MB/s eta 0:00:01\n",
      "   ----------------------------------- ---- 2.7/3.1 MB 11.6 MB/s eta 0:00:01\n",
      "   ---------------------------------------  3.1/3.1 MB 11.5 MB/s eta 0:00:01\n",
      "   ---------------------------------------- 3.1/3.1 MB 9.8 MB/s eta 0:00:00\n",
      "Downloading pypdf-4.3.1-py3-none-any.whl (295 kB)\n",
      "   ---------------------------------------- 0.0/295.8 kB ? eta -:--:--\n",
      "   ------------------------------------- - 286.7/295.8 kB 18.4 MB/s eta 0:00:01\n",
      "   ---------------------------------------- 295.8/295.8 kB 4.6 MB/s eta 0:00:00\n",
      "Installing collected packages: pypdf, cryptography\n",
      "Successfully installed cryptography-43.0.1 pypdf-4.3.1\n",
      "Note: you may need to restart the kernel to use updated packages.\n"
     ]
    },
    {
     "name": "stderr",
     "output_type": "stream",
     "text": [
      "\n",
      "[notice] A new release of pip is available: 24.0 -> 24.2\n",
      "[notice] To update, run: C:\\Users\\HIG\\AppData\\Local\\Microsoft\\WindowsApps\\PythonSoftwareFoundation.Python.3.11_qbz5n2kfra8p0\\python.exe -m pip install --upgrade pip\n"
     ]
    }
   ],
   "source": [
    "pip install pypdf[crypto]"
   ]
  },
  {
   "cell_type": "code",
   "execution_count": 12,
   "metadata": {},
   "outputs": [
    {
     "name": "stdout",
     "output_type": "stream",
     "text": [
      "Dataset Info.\n",
      "**티커(Ticker)** 는 주식 시장에서 특정 회사나 금융 상품을 식별하기 위해 사용하는 고유\n",
      "한 문자 코드입니다 . 각 기업이나 금융 자산은 거래소에서 유일한 티커코드를 가진다 .\n",
      "1.문자 조합: 티커는 보통 1~5개의 대문자 로 구성됩니다 . 예를 들어, \"AAPL\" 은 애\n",
      "플(Apple Inc.)을, \"TSLA\" 는 테슬라 (Tesla Inc.)를 나타냅니다 .\n",
      "2.거래소별 다름: 동일한 기업이더라도 거래소에 따라 다른 티커코드를 가질 수 있\n",
      "습니다 . 예를 들어, Altria Group 는 뉴욕 증권거래소 (NYSE) 에서는 \"MO\"로, \n",
      "NASDAQ 에서는 \"MO\"로 표기됩니다 .\n",
      "3.유용성 : 티커코드는 투자자들이 빠르게 정보를 찾고 거래할 수 있도록 도와줍니\n",
      "다. 각 기업의 주가, 거래량 , 재무정보 등을 쉽게 조회할 수 있습니다 .\n",
      "4.다양한 자산군 : 주식뿐만 아니라 , ETF(상장지수펀드 ), 채권, 원자재 등 다양한 금\n",
      "융 상품에도 티커가 사용됩니다 .\n",
      "ETF란 무엇인가요 ? ETF 주식 차이점 , ETF 상품 고르는 법 (tistory.com)\n",
      "NH_CONTEST_NW_FC_STK_IEM_IFO.csv\n",
      "•설명: 8월 27일 기준 해외종목 정보.\n",
      "•TCK_IEM_CD: 티커종목코드\n",
      "•FC_SEC_KRL_NM: 외화증권한글명\n",
      "•FC_SEC_ENG_NM: 외화증권영문명\n",
      "•STK_ETF_DIT_CD: 주식/ETF구분코드\n",
      "•LTG_TOT_STK_QTY: 상장주식총수량\n",
      "•FC_MKT_DIT_CD: 외화시장구분코드\n",
      "•CO_ADR: 회사주소\n",
      "•WEB_ADR: 웹주소\n",
      "•BTP_CFC_NM: 업종분류명\n",
      "•CEO_NM: CEO명\n",
      "•ENG_UTK_OTL_CTS: 영문사업개요내용\n",
      "•SER_CFC_NM: 섹터분류명\n",
      "•IDS_NM: 산업명\n",
      "•MKT_PR_TOT_AMT: 시가총액NH_CONTEST_STK_DT_QUT.csv \n",
      "•설명:2024 년 05월 28일부터 2024년 08월 27일까지 \n",
      "NH_CONTEST_NW_FC_STK_IEM_I\n"
     ]
    }
   ],
   "source": [
    "from pypdf import PdfReader\n",
    "\n",
    "pdf_file = open('./NH.pdf','rb')\n",
    "pdf_reader = PdfReader(pdf_file)\n",
    "\n",
    "#페이지수\n",
    "num_pages = len(pdf_reader.pages)\n",
    "\n",
    "#text 추출\n",
    "\n",
    "text = ''\n",
    "for page_num in range(num_pages):\n",
    "    page = pdf_reader.pages[page_num]\n",
    "    text += page.extract_text()"
   ]
  },
  {
   "cell_type": "code",
   "execution_count": 2,
   "metadata": {},
   "outputs": [
    {
     "name": "stdout",
     "output_type": "stream",
     "text": [
      "<class 'pypdf._reader.PdfReader'>\n"
     ]
    }
   ],
   "source": [
    "print(PdfReader)"
   ]
  }
 ],
 "metadata": {
  "kernelspec": {
   "display_name": "Python 3",
   "language": "python",
   "name": "python3"
  },
  "language_info": {
   "codemirror_mode": {
    "name": "ipython",
    "version": 3
   },
   "file_extension": ".py",
   "mimetype": "text/x-python",
   "name": "python",
   "nbconvert_exporter": "python",
   "pygments_lexer": "ipython3",
   "version": "3.11.9"
  }
 },
 "nbformat": 4,
 "nbformat_minor": 2
}
